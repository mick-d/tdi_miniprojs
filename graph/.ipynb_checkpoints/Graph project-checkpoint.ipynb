{
 "cells": [
  {
   "cell_type": "markdown",
   "metadata": {},
   "source": [
    "(http://www.newyorksocialdiary.com/) provides a\n",
    "fascinating lens onto New York's socially well-to-do.  The data forms a natural\n",
    "social graph for New York's social elite.  Take a look at this page of a recent\n",
    "run-of-the-mill holiday party:\n",
    "\n",
    "`http://www.newyorksocialdiary.com/party-pictures/2014/holiday-dinners-and-doers`\n",
    "\n",
    "Besides the brand-name celebrities, you will notice the photos have carefully\n",
    "annotated captions labeling those that appear in the photos.  We can think of\n",
    "this as implicitly implying a social graph: there is a connection between two\n",
    "individuals if they appear in a picture together.\n",
    "\n",
    "Fetching the data can be broken down into two phases:\n",
    "\n",
    "The first step is to crawl the data.  We want photos from parties before\n",
    "December 1st, 2014.  Go to `http://www.newyorksocialdiary.com/party-pictures`\n",
    "to see a list of (party) pages.  For each party's page, grab all the captions.\n",
    "\n",
    "# Hints\n",
    "  1. Click on the on the index page and see how they change the url.  Use this\n",
    "     to determine a strategy to get all the data.\n",
    "  2. Notice that each party has a date on the index page.  Use python's\n",
    "     `datetime.strptime` function to parse it.\n",
    "  3. Some captions are not useful: they contain long narrative texts that\n",
    "     explain the event.  Usually in two stage processes like this, it is better\n",
    "     to keep more data in the first stage and then filter it out in the second\n",
    "     stage.  This makes your work more reproducible.  It's usually faster to\n",
    "     download more data than you need now than to have to redownload more data\n",
    "     later.\n",
    "  4. To avoid having to re-scrape every time you run your code, you can\n",
    "\t consider saving the data to disk, and having the parsing code load a file.\n",
    "\t A checkpoint library like\n",
    "\t [ediblepickle](https://pypi.python.org/pypi/ediblepickle/1.1.3) can\n",
    "     streamline the process so that the time-consuming code will only be run\n",
    "     when necessary.\n",
    "  5. HTTP requests can sometimes fail inconsistently. You should expect to\n",
    "     run into this issue and deal with it as best you can.\n",
    "\n",
    "Now that you have a list of all captions, you should probably save the data on\n",
    "disk so that you can quickly retrieve it.  Now comes the parsing part.\n",
    "  1. Some captions are not useful: they contain long narrative texts that\n",
    "     explain the event.  Try to find some heuristic rules to separate captions\n",
    "     that are a list of names from those that are not.  A few heuristics\n",
    "     include:\n",
    "      - look for sentences (which have verbs) and as opposed to lists of nouns.\n",
    "        For example, [nltk does part of speech\n",
    "        tagging](http://www.nltk.org/book/ch05.html) but it is a little slow.\n",
    "        There may also be heuristics that accomplish the same thing.\n",
    "      - Look for commonly repeated threads (e.g. you might end up picking up\n",
    "        the photo credits or people such as \"a friend\").\n",
    "      - Long captions are often not lists of people.  The cutoff is subjective,\n",
    "        but for grading purposes, *set that cutoff at 250 characters*.\n",
    "  2. You will want to separate the captions based on various forms of\n",
    "     punctuation.  Try using `re.split`, which is more sophisticated than\n",
    "     `string.split`.\n",
    "  3. You might find a person named \"ra Lebenthal\".  There is no one by this\n",
    "     name.  Can anyone spot what's happening here?\n",
    "  4. This site is pretty formal and likes to say things like \"Mayor Michael\n",
    "     Bloomberg\" after his election but \"Michael Bloomberg\" before his election.\n",
    "     Can you find other ('optional') titles that are being used?  They should\n",
    "     probably be filtered out b/c they ultimately refer to the same person:\n",
    "     \"Michael Bloomberg.\"\n",
    "  4. There is a special case you might find where couples are written as eg.\n",
    "     \"John and Mary Smith\". You will need to write some extra logic to make\n",
    "     sure this properly parses to two names: \"John Smith\" and \"Mary Smith\".\n",
    "  5. When parsing names from captions, it can help to look at your output\n",
    "     frequently and address the problems that you see coming up, iterating\n",
    "     until you have a list that looks reasonable. This is the approach used\n",
    "     in the reference solution. Because we can only asymptotically approach\n",
    "     perfect identification and entity matching, we have to stop somewhere.\n",
    "\n",
    "**Further considerations (not included in solution)**\n",
    "  1. Who is Patrick McMullan and should he be included in the results? How would\n",
    "     you address this?\n",
    "  2. What else could you do to improve the quality of the graph's information?\n",
    "\n",
    "For the analysis, we think of the problem in terms of a\n",
    "[network](http://en.wikipedia.org/wiki/Computer_network) or a\n",
    "[graph](http://en.wikipedia.org/wiki/Graph_%28mathematics%29).  Any time a pair\n",
    "of people appear in a photo together, that is considered a link.  What we have\n",
    "described is more appropriately called an (undirected)\n",
    "[multigraph](http://en.wikipedia.org/wiki/Multigraph) with no self-loops but\n",
    "this has an obvious analog in terms of an undirected [weighted\n",
    "graph](http://en.wikipedia.org/wiki/Graph_%28mathematics%29#Weighted_graph).\n",
    "In this problem, we will analyze the social graph of the new york social elite.\n",
    "\n",
    "We recommend using python's `networkx` library.\n",
    "\n",
    "\n",
    "# Questions\n",
    "\n",
    "**Checkpoint**\n",
    "Total number of names found: 113,031\n",
    "Total number of pairs found: 196,245\n",
    "Total number of raw captions: 113,325\n",
    "Total number of valid captions: 102,736\n",
    "\n",
    "## 1. degree\n",
    "The simplest question to ask is \"who is the most popular\"?  The easiest way to\n",
    "answer this question is to look at how many connections everyone has.  Return\n",
    "the top 100 people and their degree.  Remember that if an edge of the graph has\n",
    "weight 2, it counts for 2 in the degree.\n",
    "\n",
    "**Checkpoint**\n",
    "Top 100 .describe()\n",
    "\"count\": 100.0\n",
    "\"mean\": 109.96\n",
    "\"std\": 52.4777817343\n",
    "\"min\": 71.0\n",
    "\"25%\": 79.75\n",
    "\"50%\": 91.0\n",
    "\"75%\": 120.25\n",
    "\"max\": 373.0\n",
    "\n",
    "## 2. pagerank\n",
    "A similar way to determine popularity is to look at their\n",
    "[pagerank](http://en.wikipedia.org/wiki/PageRank).  Pagerank is used for web\n",
    "ranking and was originally\n",
    "[patented](http://patft.uspto.gov/netacgi/nph-Parser?patentnumber=6285999) by\n",
    "Google and is essentially the stationary distribution of a [markov\n",
    "chain](http://en.wikipedia.org/wiki/Markov_chain) implied by the social graph.\n",
    "\n",
    "Use 0.85 as the damping parameter so that there is a 15% chance of jumping to\n",
    "another vertex at random.\n",
    "\n",
    "**Checkpoint**\n",
    "Top 100 .describe()\n",
    "\"count\": 100.0\n",
    "\"mean\": 0.0001841088\n",
    "\"std\": 0.0000758068\n",
    "\"min\": 0.0001238355\n",
    "\"25%\": 0.0001415028\n",
    "\"50%\": 0.0001616183\n",
    "\"75%\": 0.0001972663\n",
    "\"max\": 0.0006085816\n",
    "\n",
    "## 3. best_friends\n",
    "Another interesting question is who tend to co-occur with each other.  Give\n",
    "us the 100 edges with the highest weights.\n",
    "\n",
    "Google these people and see what their connection is.  Can we use this to\n",
    "detect instances of infidelity?\n",
    "\n",
    "**Checkpoint**\n",
    "Top 100 .describe()\n",
    "\"count\": 100.0\n",
    "\"mean\": 25.84\n",
    "\"std\": 16.0395470855\n",
    "\"min\": 14.0\n",
    "\"25%\": 16.0\n",
    "\"50%\": 19.0\n",
    "\"75%\": 29.25\n",
    "\"max\": 109.0\n"
   ]
  },
  {
   "cell_type": "code",
   "execution_count": 619,
   "metadata": {
    "collapsed": false
   },
   "outputs": [],
   "source": [
    "%matplotlib inline\n",
    "import matplotlib as mpl\n",
    "import matplotlib.pyplot as plt\n",
    "import seaborn as sns\n",
    "mpl.rcParams['savefig.dpi'] = 2 * mpl.rcParams['savefig.dpi']"
   ]
  },
  {
   "cell_type": "code",
   "execution_count": 178,
   "metadata": {
    "collapsed": false
   },
   "outputs": [],
   "source": [
    "# Get number of pages\n",
    "import re\n",
    "import requests\n",
    "from bs4 import BeautifulSoup\n",
    "root_url = 'http://www.newyorksocialdiary.com'\n",
    "base_url = root_url + '/party-pictures'\n",
    "response = requests.get(base_url)\n",
    "soup = BeautifulSoup(response.text)\n",
    "last_page_field = soup.find('a', attrs={'title': 'Go to last page'})\n",
    "last_page=int(re.search('(?<=page=)\\w+', last_page_field['href']).group(0))"
   ]
  },
  {
   "cell_type": "code",
   "execution_count": null,
   "metadata": {
    "collapsed": false
   },
   "outputs": [],
   "source": []
  },
  {
   "cell_type": "code",
   "execution_count": 216,
   "metadata": {
    "collapsed": false
   },
   "outputs": [],
   "source": [
    "# Get all album links before selected threshold date\n",
    "from time import strptime\n",
    "thr_date_str = 'December 1, 2014'\n",
    "#thr_date_str = 'May 1, 2007'\n",
    "thr_date = strptime(thr_date_str, \"%B %d, %Y\")\n",
    "\n",
    "ok_links=[]\n",
    "for page_num in range(last_page+1):\n",
    "    page_url = base_url + '?page=%d' % page_num\n",
    "    response = requests.get(page_url)\n",
    "    soup = BeautifulSoup(response.text)\n",
    "    link_divs = soup.select('span.views-field-title a')\n",
    "    date_divs = soup.select('span.views-field-created')\n",
    "    if len(link_divs) != len(date_divs):\n",
    "        raise ValueError('Number of album links ({n_albums}) different from '.format(n_albums=len(link_divs)) + \n",
    "                         'number of found album dates ({n_dates})'.format(n_dates=len(date_divs)))\n",
    "    dates_links = {}\n",
    "    for iAlbum in range(len(link_divs)):\n",
    "        album_date = strptime(date_divs[iAlbum].text, \" %A, %B %d, %Y \")\n",
    "        album_link = link_divs[iAlbum]['href']\n",
    "        dates_links[album_date] = album_link\n",
    "    ok_links += [root_url + dates_links[ok_date] for ok_date in dates_links.keys() if ok_date < thr_date]\n",
    "#views-field-title\n",
    "#date_divs = soup.find('div', attrs={'class': 'panel-pane pane-node-created'})"
   ]
  },
  {
   "cell_type": "code",
   "execution_count": 218,
   "metadata": {
    "collapsed": false
   },
   "outputs": [
    {
     "name": "stdout",
     "output_type": "stream",
     "text": [
      "511.510752916\n",
      "210.037039042\n"
     ]
    }
   ],
   "source": [
    "from ediblepickle import checkpoint\n",
    "#import multiplrocessing\n",
    "import time\n",
    "# Get all the captions\n",
    "@checkpoint(key='all_captions.csv', work_dir='.', refresh=False)\n",
    "def get_all_captions():\n",
    "    all_captions = []\n",
    "    for ok_link in ok_links:\n",
    "        #url = \"http://www.newyorksocialdiary.com/party-pictures/2007/music-to-our-ears\"\n",
    "        response = requests.get(ok_link)\n",
    "        soup = BeautifulSoup(response.text)\n",
    "        caption_tds = soup.select('div.pane-page-content table td td')\n",
    "        #soup.find_all(\"font\", attrs={'face': 'Verdana, Arial, Helvetica, sans-serif','size': '1'})\n",
    "        all_captions += [' '.join(td.text.strip().split()) for td in caption_tds \n",
    "                         if td.text.strip() != '' and td.find('script') is None]\n",
    "    return all_captions\n",
    "\n",
    "#pool = multiprocessing.Pool(processes=6)\n",
    "\n",
    "# First call, evaluates the function and saves the results\n",
    "begin = time.time()\n",
    "my_captions = get_all_captions()\n",
    "time_taken = time.time() - begin\n",
    "print time_taken\n",
    "\n",
    "# Second call, since the checkpoint exists, the result is loaded from that file and returned.\n",
    "begin = time.time()\n",
    "my_captions = get_all_captions()\n",
    "time_taken = time.time() - begin\n",
    "print time_taken"
   ]
  },
  {
   "cell_type": "code",
   "execution_count": 221,
   "metadata": {
    "collapsed": false
   },
   "outputs": [],
   "source": [
    "import pickle\n",
    "with open('captions.pickle','w') as f:\n",
    "    pickle.dump(my_captions, f)"
   ]
  },
  {
   "cell_type": "code",
   "execution_count": null,
   "metadata": {
    "collapsed": true
   },
   "outputs": [],
   "source": [
    "my_captions = pickle.load(open('afile', 'rb'))"
   ]
  },
  {
   "cell_type": "code",
   "execution_count": 784,
   "metadata": {
    "collapsed": false
   },
   "outputs": [
    {
     "name": "stdout",
     "output_type": "stream",
     "text": [
      "89956\n"
     ]
    }
   ],
   "source": [
    "print len(my_captions)\n",
    "caps100 = my_captions[:100]\n",
    "caps1000 = my_captions[:1000]\n",
    "caps10000 = my_captions[:10000]"
   ]
  },
  {
   "cell_type": "code",
   "execution_count": 559,
   "metadata": {
    "collapsed": false
   },
   "outputs": [
    {
     "name": "stdout",
     "output_type": "stream",
     "text": [
      "['Paula Zahn', 'Alex Witt', 'Robert Desiderio', 'Daryl Roth', 'Judith Light', 'America Ferrara', 'Herb Hamsher', 'Thomas Robert at the 13th Annual Women Who Care Luncheon benefitting United Cerebral Palsy of NYC.']\n",
      "\n",
      "\n",
      "\n",
      "\n",
      "\n",
      "\n",
      "\n",
      "Thomas Robert at the 13th Annual Women Who Care Luncheon benefitting United Cerebral Palsy\n"
     ]
    }
   ],
   "source": [
    "a ='Hannah Jacobs, Julia Monk, China Machado, and Judith Light'\n",
    "#a=\"CMOM Executive Director Andrew Ackerman and Honorary Board Chair Laurie M. Tisch\"\n",
    "a='Paula Zahn, Alex Witt, Robert Desiderio, Daryl Roth, Judith Light, America Ferrara, Herb Hamsher, and Thomas Robert at the 13th Annual Women Who Care Luncheon benefitting United Cerebral Palsy of NYC.'\n",
    "tokens_withnull = re.split('\\s*,+\\s*|\\s*,*\\s*and\\s*|\\s*,*\\s*with\\s*', a)\n",
    "tokens_withnull = re.split(',\\ and\\ |\\ and\\ |,\\ with\\ |\\ with\\ |,\\ ', a)\n",
    "tokens = [token for token in tokens_withnull if token != '']\n",
    "print tokens\n",
    "for t in tokens:\n",
    "    #print t.split(' ')[:-2]\n",
    "    print ' '.join(t.split()[:-2])\n"
   ]
  },
  {
   "cell_type": "code",
   "execution_count": 777,
   "metadata": {
    "collapsed": false
   },
   "outputs": [],
   "source": [
    "def pot_name(token):\n",
    "    return all(p.replace(\"'\",\"\").istitle() or p.isupper() or p in ['bin', 'bint', 'van', 'du', 'de'] \n",
    "               or p.startswith(('Mc','Fitz')) for p in token.split())\n",
    "\n",
    "def pot_firstname(token):\n",
    "    return len(token.split()) == 1\n",
    "\n",
    "def pot_name_startend(token):\n",
    "    token_parts = token.split()\n",
    "    return ((pot_name(' '.join(token_parts[:2])) and keep_final(' '.join(token_parts[:2]))) or\n",
    "            (pot_name(' '.join(token_parts[-2:])) and keep_final(' '.join(token_parts[-2:]))))\n",
    "\n",
    "def get_name_startend(token):\n",
    "    token_parts = token.split()\n",
    "    start_name = ' '.join(token_parts[:2])\n",
    "    end_name = ' '.join(token_parts[-2:])\n",
    "    if pot_name(start_name):\n",
    "        return start_name\n",
    "    else:\n",
    "        return end_name\n",
    "\n",
    "def is_suffix(token):\n",
    "    return len(token.split()) == 1 and token in ['MD', 'PhD', 'FACS']\n",
    "\n",
    "def remove_title(fullname):\n",
    "    mapping = [ ('Dr ', ''), ('Dr. ', ''), ('Mayor ', ''), ('Sir ', ''),\n",
    "                ('OSL ', ''), ('Chef ', ''), ('CEO ', ''), ('Ambassador ', ''),\n",
    "                ('Senator ', ''), ('Board Member ', ''), ('Honorees ', ''),\n",
    "                ('Honoree ', ''), ('Trustee ', ''), ('Chairman ', ''),\n",
    "                ('R. ', ''), ('Chairmen ', ''), ('Vice ', ''), ('Gala ', ''),\n",
    "                ('Chair ', ''), ('Chairs ', ''), ('Co-Chair ', ''),\n",
    "                ('Chairwoman ', ''), ('Chairwomen ', ''), ('Chairman-Elect ', ''),\n",
    "                ('Museum ', ''), ('Frick ', ''), ('President ', ''), ('Governor ', ''),\n",
    "                ('Executive ', ''), ('Commissioner ', ''), ('Countess ', ''),\n",
    "                ('Curator ', ''), ('Center ', ''), ('Provost ', ''), ('Board ', ''),\n",
    "                ('Hon. ', ''), ('DJ ', ''), ('Mr. ', ''), ('New York ', ''), ('New York. ', ''),\n",
    "                ('New School ', ''), ('City ', ''), ('Chapter ', ''), ('Community ', ''), ('Trust ', ''),\n",
    "                ('Miss ', ''), ('Rev. ', ''), ('Artist ', ''), ('Baroness ', ''), ('Former ', ''),\n",
    "                ('Foundation ', ''), ('NYC ', ''), ('Congresswoman ', ''), ('General ', ''),\n",
    "                ('BSO ', ''), ('Host ', ''), ('Judge ', ''), ('NY ', ''), ('USA ', ''),\n",
    "                ('Event ', ''), ('Director ', ''), ('(', ''), (')', ''), (': ', ''),\n",
    "                ('Honorary ', ''), ('HRH ', ''), ('H.E. ', '')] \n",
    "    for t, v in mapping:\n",
    "        fullname = fullname.replace(t, v)\n",
    "    return fullname\n",
    "\n",
    "def keep_final(fullname):\n",
    "    if fullname.startswith('The ') or fullname=='':\n",
    "        return False\n",
    "    else:\n",
    "        return True"
   ]
  },
  {
   "cell_type": "code",
   "execution_count": 704,
   "metadata": {
    "collapsed": true
   },
   "outputs": [],
   "source": [
    "def get_names(tokens):\n",
    "    all_names = []\n",
    "    orphan_firstnames = [] # First names on their own\n",
    "    surname_wanted = False\n",
    "    for t in tokens:\n",
    "        t_parts = t.split(' ')\n",
    "        if pot_name(t):\n",
    "            if is_suffix(t):\n",
    "                continue\n",
    "            if pot_firstname(t):\n",
    "                orphan_firstnames += [t]\n",
    "                surname_wanted = True\n",
    "            elif not surname_wanted:\n",
    "                filt_t = remove_title(t)\n",
    "                if keep_final(filt_t):\n",
    "                    all_names += [filt_t]\n",
    "            else:\n",
    "                surname = t.split()[-1]\n",
    "                for ofn in orphan_firstnames:\n",
    "                    all_names += [ofn + ' ' + surname]\n",
    "                filt_t = remove_title(t)\n",
    "                if keep_final(filt_t):\n",
    "                    all_names += [filt_t]\n",
    "                surname_wanted = False\n",
    "        elif pot_name_startend(t):\n",
    "            all_names += [get_name_startend(t)]\n",
    "    return all_names"
   ]
  },
  {
   "cell_type": "code",
   "execution_count": 582,
   "metadata": {
    "collapsed": false
   },
   "outputs": [
    {
     "data": {
      "text/plain": [
       "['Brendan FitzGerald', 'Kathleen FitzGerald']"
      ]
     },
     "execution_count": 582,
     "metadata": {},
     "output_type": "execute_result"
    }
   ],
   "source": [
    "get_names(tokens)"
   ]
  },
  {
   "cell_type": "code",
   "execution_count": 769,
   "metadata": {
    "collapsed": false,
    "scrolled": true
   },
   "outputs": [],
   "source": [
    "from colorama import Fore\n",
    "\n",
    "all_peeps = []\n",
    "for cap in my_captions:\n",
    "    if len(cap) > 250:\n",
    "        continue   \n",
    "    #tokens_withnull = re.split('\\s*,+\\s*|\\s*,*\\s*and\\s*|\\s*,*\\s*with\\s*', cap)\n",
    "    tokens_withnull = re.split(',\\ and\\ |\\ and\\ |,\\ with\\ |\\ with\\ |,\\ ', cap)\n",
    "    tokens = [token for token in tokens_withnull if token != '']\n",
    "    peeps = get_names(tokens)\n",
    "    #print cap\n",
    "    #print \"People found: \" + Fore.RED + (\"%s\" % peeps) + Fore.RESET\n",
    "    all_peeps += peeps"
   ]
  },
  {
   "cell_type": "code",
   "execution_count": 776,
   "metadata": {
    "collapsed": false
   },
   "outputs": [
    {
     "data": {
      "text/plain": [
       "191374"
      ]
     },
     "execution_count": 776,
     "metadata": {},
     "output_type": "execute_result"
    }
   ],
   "source": [
    "len(all_peeps)"
   ]
  },
  {
   "cell_type": "code",
   "execution_count": 774,
   "metadata": {
    "collapsed": false
   },
   "outputs": [
    {
     "data": {
      "text/plain": [
       "89956"
      ]
     },
     "execution_count": 774,
     "metadata": {},
     "output_type": "execute_result"
    }
   ],
   "source": [
    "len(my_captions)"
   ]
  },
  {
   "cell_type": "code",
   "execution_count": 770,
   "metadata": {
    "collapsed": false
   },
   "outputs": [],
   "source": [
    "prefixes = Counter()\n",
    "for peep in all_peeps:\n",
    "    name_parts = peep.split()\n",
    "    if len(name_parts) > 2:\n",
    "        prefixes[name_parts[0]] += 1\n",
    "        #prefixes[' '.join(name_parts[:-2])] += 1\n",
    "        "
   ]
  },
  {
   "cell_type": "code",
   "execution_count": 662,
   "metadata": {
    "collapsed": false
   },
   "outputs": [
    {
     "name": "stdout",
     "output_type": "stream",
     "text": [
      "Mrs. Bradley\n",
      "Mrs. Bradley\n",
      "Mrs. Mykola Alyskewycz\n",
      "Mrs. Bob Mackay\n",
      "Mrs. Michael J. Horvitz\n",
      "Mrs. Joseph Sitt\n",
      "Mrs. John Griffin\n",
      "Mrs. Peter\n",
      "Mrs. David\n",
      "Mrs. Steven\n",
      "Mrs. Philippe Marchal\n",
      "Mrs. Mark Maddick\n",
      "Mrs. Craig Stapleton\n",
      "Mrs. Ross\n",
      "Mrs. Alphie McCourt\n"
     ]
    }
   ],
   "source": [
    "for p in all_peeps:\n",
    "    if 'Mrs.' in p:\n",
    "        print p"
   ]
  },
  {
   "cell_type": "code",
   "execution_count": 703,
   "metadata": {
    "collapsed": false
   },
   "outputs": [
    {
     "name": "stdout",
     "output_type": "stream",
     "text": [
      "The Japan Society\n"
     ]
    }
   ],
   "source": [
    "for c in caps10000:\n",
    "    if 'The Japan Society' in c:\n",
    "        print c"
   ]
  },
  {
   "cell_type": "code",
   "execution_count": 746,
   "metadata": {
    "collapsed": false
   },
   "outputs": [
    {
     "name": "stdout",
     "output_type": "stream",
     "text": [
      "New York\n",
      "New York Community Trust: David Marcus\n",
      "New York City Chapter Marielle Mindlin Bernstein\n",
      "New York\n",
      "New York-Presbyterian Robert Kelly\n",
      "New York-Presbyterian Steven J. Corwin\n",
      "Former New York City Comptroller William C. Thompson Jr\n",
      "Miss New York\n",
      "New York City Chapter\n",
      "New York City Chapter\n",
      "New York City Chapter David Geithner\n",
      "New York City Chapter\n",
      "New York City Chapter\n",
      "New York City Chapter Ex-Officio Steven E. Boxer\n",
      "New York\n",
      "Miss New York Amanda Mason\n",
      "New York\n",
      "New York\n",
      "New York City Schools Chancellor Dennis Walcott\n",
      "New York\n",
      "New York City Comptroller\n",
      "New York\n",
      "New York\n",
      "New York\n",
      "Thierry Cazeau \"I Have A Dream\" New York Director\n",
      "Thierry Cazeau \"I Have A Dream\" New York Director\n",
      "New Africa Center\n",
      "New York\n",
      "New York\n",
      "New York Giants Cornerback Prince Amukamara\n",
      "New York\n",
      "Miss New York USA Joanne Nosuchinsky\n",
      "New York\n",
      "New York\n",
      "New York\n",
      "New York\n",
      "New York's Bravest\n",
      "INC. New York Alumnae Chapter Betty Shabazz Delta Academy.\n",
      "New York.\n",
      "New York\n",
      "New York\n",
      "New York.\n",
      "New York.\n",
      "New York.\n",
      "New York.\n",
      "New York Pops Music Steven Reineke\n",
      "New York\n",
      "New York\n",
      "New JHC\n",
      "New York.\n",
      "New York's Erik\n",
      "Ronald McDonald House New York Tina Lundgren\n",
      "Miss New York Kaitlin Monte\n",
      "Miss New York Kaitlin Monte\n",
      "Miss New York Kaitlin Monte\n",
      "Miss New York Kaitlin Monte\n",
      "Miss New York Kaitlin Monte\n",
      "New York Pops Jim Read\n",
      "New York\n",
      "New York City Michael Bloomberg\n",
      "New York City Cultural Affairs Kate D. Levin\n",
      "New York City Cultural Affairs Kate D. Levin\n",
      "New York\n",
      "New York\n",
      "New York City Comptroller John C. Liu\n",
      "New York\n",
      "New York.\n",
      "New York Junior League's \"Babes\n",
      "New York\n",
      "New Utrecht\n",
      "New York Spaces\n",
      "Co-Host Good Day New York\n",
      "New York's First Lady Michelle Paterson\n",
      "New York\n",
      "New York City School Chancellor Joel Klein\n",
      "New York\n",
      "New York First Lady\n",
      "New York Tri-State Region\n",
      "New York Pops James Johnson\n",
      "New York Pops Kids\n",
      "New York\n",
      "New York\n",
      "New York\n",
      "New York Supreme Court Judge Rosalyn Richter\n",
      "Former New York City David Dinkins\n",
      "Former New York Giant Howard Cross\n",
      "Former New Jersey Net\n",
      "Former New York Knick\n",
      "New School Bob Kerrey\n",
      "New York\n",
      "New York\n",
      "Greater New York Girl Scouts\n",
      "Greater New York Girl Scouts\n",
      "New York Public Library John Gutfreund\n",
      "New York Public Library Chief Operating Officer David Offensend\n",
      "New York Public Library Joan Hardy Clark\n",
      "New York\n",
      "New School Bob Kerrey\n",
      "New School Julien Studley\n",
      "New School Philip Scaturro\n",
      "New School Philip Scaturro\n",
      "New School Arnold Aronson\n",
      "Miss New York\n",
      "New York City Deputy Dennis Wolcott\n",
      "New York\n",
      "New Yorker's For Children\n",
      "New York Historical Society Young Friends\n",
      "Greater New York Chapter Minta Spain\n",
      "More Greater New York Links\n",
      "New York\n",
      "New York Giants' Derrick Ward\n"
     ]
    }
   ],
   "source": [
    "for p in all_peeps:\n",
    "    if 'New ' in p:\n",
    "        print p"
   ]
  },
  {
   "cell_type": "code",
   "execution_count": 782,
   "metadata": {
    "collapsed": false
   },
   "outputs": [
    {
     "name": "stdout",
     "output_type": "stream",
     "text": [
      "89916\n",
      "191374\n"
     ]
    }
   ],
   "source": [
    "unique_peeps = set(all_peeps)\n",
    "print len(unique_peeps)\n",
    "print len(all_peeps)"
   ]
  },
  {
   "cell_type": "code",
   "execution_count": 771,
   "metadata": {
    "collapsed": false
   },
   "outputs": [
    {
     "data": {
      "text/plain": [
       "([<matplotlib.axis.XTick at 0x7efbcda56410>,\n",
       "  <matplotlib.axis.XTick at 0x7efbd0352e50>,\n",
       "  <matplotlib.axis.XTick at 0x7efbc8816750>,\n",
       "  <matplotlib.axis.XTick at 0x7efbc7e991d0>,\n",
       "  <matplotlib.axis.XTick at 0x7efbc7e99950>,\n",
       "  <matplotlib.axis.XTick at 0x7efbc7ea5110>,\n",
       "  <matplotlib.axis.XTick at 0x7efbc7ea5890>,\n",
       "  <matplotlib.axis.XTick at 0x7efbc7eae050>,\n",
       "  <matplotlib.axis.XTick at 0x7efbc7eae7d0>,\n",
       "  <matplotlib.axis.XTick at 0x7efbc7eaef50>,\n",
       "  <matplotlib.axis.XTick at 0x7efbc7eb6710>,\n",
       "  <matplotlib.axis.XTick at 0x7efbc7eb6e90>,\n",
       "  <matplotlib.axis.XTick at 0x7efbc7ec1650>,\n",
       "  <matplotlib.axis.XTick at 0x7efbc7ec1dd0>,\n",
       "  <matplotlib.axis.XTick at 0x7efbc7e49590>,\n",
       "  <matplotlib.axis.XTick at 0x7efbc7e49d10>,\n",
       "  <matplotlib.axis.XTick at 0x7efbc7e534d0>,\n",
       "  <matplotlib.axis.XTick at 0x7efbc7e53c50>,\n",
       "  <matplotlib.axis.XTick at 0x7efbc7e5f410>,\n",
       "  <matplotlib.axis.XTick at 0x7efbc7e5fb90>,\n",
       "  <matplotlib.axis.XTick at 0x7efbc7e68350>,\n",
       "  <matplotlib.axis.XTick at 0x7efbc7e68ad0>,\n",
       "  <matplotlib.axis.XTick at 0x7efbc7e72290>,\n",
       "  <matplotlib.axis.XTick at 0x7efbc7e72a10>,\n",
       "  <matplotlib.axis.XTick at 0x7efbc7e7d1d0>,\n",
       "  <matplotlib.axis.XTick at 0x7efbc7e7d950>,\n",
       "  <matplotlib.axis.XTick at 0x7efbc7e08110>,\n",
       "  <matplotlib.axis.XTick at 0x7efbc7e08890>,\n",
       "  <matplotlib.axis.XTick at 0x7efbc7e11050>,\n",
       "  <matplotlib.axis.XTick at 0x7efbc7e117d0>,\n",
       "  <matplotlib.axis.XTick at 0x7efbc7e11f50>,\n",
       "  <matplotlib.axis.XTick at 0x7efbc7e19710>,\n",
       "  <matplotlib.axis.XTick at 0x7efbc7e19e90>,\n",
       "  <matplotlib.axis.XTick at 0x7efbc7e25650>,\n",
       "  <matplotlib.axis.XTick at 0x7efbc7e25dd0>,\n",
       "  <matplotlib.axis.XTick at 0x7efbc7e2d590>,\n",
       "  <matplotlib.axis.XTick at 0x7efbc7e2dd10>,\n",
       "  <matplotlib.axis.XTick at 0x7efbc7e384d0>,\n",
       "  <matplotlib.axis.XTick at 0x7efbc7e38c50>,\n",
       "  <matplotlib.axis.XTick at 0x7efbc7e42410>,\n",
       "  <matplotlib.axis.XTick at 0x7efbc7e42b90>,\n",
       "  <matplotlib.axis.XTick at 0x7efbc7dcb350>,\n",
       "  <matplotlib.axis.XTick at 0x7efbc7dcbad0>,\n",
       "  <matplotlib.axis.XTick at 0x7efbc7dd7290>,\n",
       "  <matplotlib.axis.XTick at 0x7efbc7dd7a10>],\n",
       " <a list of 45 Text xticklabel objects>)"
      ]
     },
     "execution_count": 771,
     "metadata": {},
     "output_type": "execute_result"
    },
    {
     "data": {
      "image/png": "[encoded data removed]",
      "text/plain": [
       "<matplotlib.figure.Figure at 0x7efbcdac3f10>"
      ]
     },
     "metadata": {},
     "output_type": "display_data"
    }
   ],
   "source": [
    "freq_thr = 15\n",
    "freq_uthr = 20\n",
    "import numpy as np\n",
    "highfreq_keys = [pref for pref, rep in prefixes.items() if rep > freq_thr and rep < freq_uthr]\n",
    "highfreq_vals = [prefixes[pref] for pref in highfreq_keys]\n",
    "indexes = np.arange(len(highfreq_keys))\n",
    "width = 1\n",
    "plt.bar(indexes, highfreq_vals, width)\n",
    "plt.xticks(indexes + width * 0.5, highfreq_keys, rotation='vertical')"
   ]
  },
  {
   "cell_type": "markdown",
   "metadata": {},
   "source": [
    "# Graph analysis"
   ]
  },
  {
   "cell_type": "code",
   "execution_count": 819,
   "metadata": {
    "collapsed": false
   },
   "outputs": [],
   "source": [
    "import itertools\n",
    "from collections import defaultdict\n",
    "#from sets import Set\n",
    "edges = defaultdict(int)\n",
    "for cap in my_captions:\n",
    "    if len(cap) > 250:\n",
    "        continue   \n",
    "    tokens_withnull = re.split(',\\ and\\ |\\ and\\ |,\\ with\\ |\\ with\\ |,\\ ', cap)\n",
    "    tokens = [token for token in tokens_withnull if token != '']\n",
    "    peeps = get_names(tokens)\n",
    "    peeps.sort()\n",
    "    peeps_edges = itertools.combinations(peeps, 2)\n",
    "    for p in peeps_edges:\n",
    "        edges[p] += 1\n",
    "#tt = Set(peeps_edges)"
   ]
  },
  {
   "cell_type": "code",
   "execution_count": 826,
   "metadata": {
    "collapsed": false
   },
   "outputs": [],
   "source": [
    "import networkx as nx\n",
    "from operator import itemgetter\n",
    "G = nx.MultiGraph()\n",
    "for pair, num_pic in edges.iteritems():\n",
    "    G.add_edge(pair[0], pair[1], weight=num_pic)\n",
    "#top_degrees = sorted(G.degree_iter(), key=itemgetter(1), reverse=True)\n",
    "top_degrees = sorted(G.degree_iter(weight='weight'), key=itemgetter(1), reverse=True)\n"
   ]
  },
  {
   "cell_type": "code",
   "execution_count": 877,
   "metadata": {
    "collapsed": false
   },
   "outputs": [
    {
     "data": {
      "text/html": [
       "<div>\n",
       "<table border=\"1\" class=\"dataframe\">\n",
       "  <thead>\n",
       "    <tr style=\"text-align: right;\">\n",
       "      <th></th>\n",
       "      <th>0</th>\n",
       "    </tr>\n",
       "  </thead>\n",
       "  <tbody>\n",
       "    <tr>\n",
       "      <th>count</th>\n",
       "      <td>100.000000</td>\n",
       "    </tr>\n",
       "    <tr>\n",
       "      <th>mean</th>\n",
       "      <td>148.910000</td>\n",
       "    </tr>\n",
       "    <tr>\n",
       "      <th>std</th>\n",
       "      <td>71.449084</td>\n",
       "    </tr>\n",
       "    <tr>\n",
       "      <th>min</th>\n",
       "      <td>96.000000</td>\n",
       "    </tr>\n",
       "    <tr>\n",
       "      <th>25%</th>\n",
       "      <td>106.750000</td>\n",
       "    </tr>\n",
       "    <tr>\n",
       "      <th>50%</th>\n",
       "      <td>123.000000</td>\n",
       "    </tr>\n",
       "    <tr>\n",
       "      <th>75%</th>\n",
       "      <td>158.250000</td>\n",
       "    </tr>\n",
       "    <tr>\n",
       "      <th>max</th>\n",
       "      <td>492.000000</td>\n",
       "    </tr>\n",
       "  </tbody>\n",
       "</table>\n",
       "</div>"
      ],
      "text/plain": [
       "                0\n",
       "count  100.000000\n",
       "mean   148.910000\n",
       "std     71.449084\n",
       "min     96.000000\n",
       "25%    106.750000\n",
       "50%    123.000000\n",
       "75%    158.250000\n",
       "max    492.000000"
      ]
     },
     "execution_count": 877,
     "metadata": {},
     "output_type": "execute_result"
    }
   ],
   "source": [
    "import pandas as pd\n",
    "degrees100 = [name_deg[1] for deg_pos, name_deg  in enumerate(top_degrees) if deg_pos < 100]\n",
    "pd.DataFrame(degrees100).describe()\n"
   ]
  },
  {
   "cell_type": "code",
   "execution_count": 874,
   "metadata": {
    "collapsed": false,
    "scrolled": true
   },
   "outputs": [
    {
     "name": "stdout",
     "output_type": "stream",
     "text": [
      "('Jean Shafiroff', 492), \n",
      "('Gillian Miniter', 429), \n",
      "('Mark Gilbertson', 429), \n",
      "('Alexandra Lebenthal', 303), \n",
      "('Somers Farkas', 292), \n",
      "('Andrew Saffir', 281), \n",
      "('Geoffrey Bradfield', 278), \n",
      "('Debbie Bancroft', 266), \n",
      "('Jamee Gregory', 234), \n",
      "('Alina Cho', 229), \n",
      "('Yaz Hernandez', 226), \n",
      "('Eleanora Kennedy', 224), \n",
      "('Kamie Lightburn', 222), \n",
      "('Sharon Bush', 216), \n",
      "('Mario Buatta', 193), \n",
      "('Bettina Zilkha', 190), \n",
      "('Barbara Tober', 189), \n",
      "('Bonnie Comley', 179), \n",
      "('Daniel Benedict', 178), \n",
      "('Lydia Fenet', 177), \n",
      "('Lucia Hwong Gordon', 177), \n",
      "('Allison Aston', 175), \n",
      "('Muffie Potter Aston', 174), \n",
      "('Sylvester Miniter', 164), \n",
      "('Stewart Lane', 159), \n",
      "('Grace Meigher', 158), \n",
      "('Dennis Basso', 158), \n",
      "('Jennifer Creel', 153), \n",
      "('Michael Bloomberg', 152), \n",
      "('Deborah Norville', 144), \n",
      "('Liz Peek', 144), \n",
      "('Nicole Miller', 141), \n",
      "('Martha Stewart', 141), \n",
      "('Felicia Taylor', 140), \n",
      "('Kipton Cronkite', 140), \n",
      "('Fe Fendi', 139), \n",
      "('Patrick McMullan', 139), \n",
      "('Amy Fine Collins', 138), \n",
      "('Roric Tobin', 134), \n",
      "('Barbara Regna', 134), \n",
      "('Martha Glass', 132), \n",
      "('Liliana Cavendish', 132), \n",
      "('Russell Simmons', 129), \n",
      "('Elizabeth Stribling', 127), \n",
      "('Cynthia Lufkin', 127), \n",
      "('Janna Bullock', 127), \n",
      "('Donna Karan', 127), \n",
      "('Audrey Gruss', 124), \n",
      "('Fernanda Kellogg', 123), \n",
      "('Margo Langenberg', 123), \n",
      "('Frederick Anderson', 123), \n",
      "('Coco Kopelman', 122), \n",
      "('Alec Baldwin', 120), \n",
      "('Amy Hoadley', 120), \n",
      "('Margaret Russell', 117), \n",
      "('Leonard Lauder', 117), \n",
      "('Rosanna Scotto', 117), \n",
      "('Wilbur Ross', 116), \n",
      "('Adelina Wong Ettelson', 116), \n",
      "('Hilary Geary Ross', 116), \n",
      "('Couri Hay', 116), \n",
      "('Alexandra Lind Rose', 114), \n",
      "('Diana Taylor', 114), \n",
      "('Fern Mallis', 114), \n",
      "('Michele Herbert', 114), \n",
      "('Lizzie Tisch', 113), \n",
      "('Gregory Long', 112), \n",
      "('Jonathan Farkas', 112), \n",
      "('Susan Shin', 112), \n",
      "('Wendy Carduner', 111), \n",
      "('Tory Burch', 109), \n",
      "('John Demsey', 108), \n",
      "('Alexia Hamm Ryan', 108), \n",
      "('Julia Koch', 107), \n",
      "('Peter Gregory', 107), \n",
      "('Chris Meigher', 106), \n",
      "('Douglas Hannant', 105), \n",
      "('Hunt Slonem', 105), \n",
      "('Campion Platt', 104), \n",
      "('Karen Klopp', 104), \n",
      "('Lisa Anastos', 104), \n",
      "('Patricia Shiah', 104), \n",
      "('Jonathan Tisch', 104), \n",
      "('Chuck Scarborough', 103), \n",
      "('Dawne Marie Grannum', 103), \n",
      "('Michele Gerber Klein', 103), \n",
      "('Anne Hearst McInerney', 102), \n",
      "('Jill Zarin', 102), \n",
      "('Richard Mishaan', 101), \n",
      "('Pamela Fiori', 100), \n",
      "('Beth Rudin', 100), \n",
      "('Margo Catsimatidis', 100), \n",
      "('Prince Dimitri', 99), \n",
      "('Clare McKeon', 99), \n",
      "('Tinsley Mortimer', 99), \n",
      "('John Catsimatidis', 98), \n",
      "('Dayssi Olarte de Kanavos', 98), \n",
      "('Anka Palitz', 98), \n",
      "('Melissa Berkelhammer', 97), \n",
      "('Mary Davidson', 96), \n"
     ]
    }
   ],
   "source": [
    "# Top 100 degrees, return [('Alec Baldwin', 82)] * 100\n",
    "i_deg = 0\n",
    "for name, deg in top_degrees:\n",
    "    if i_deg < 100:\n",
    "        print(\"('{name}', {deg}), \".format(name = name, deg = deg))\n",
    "        i_deg += 1\n",
    "    else:\n",
    "        break"
   ]
  },
  {
   "cell_type": "code",
   "execution_count": 879,
   "metadata": {
    "collapsed": false
   },
   "outputs": [
    {
     "name": "stdout",
     "output_type": "stream",
     "text": [
      "('Jean Shafiroff', 362), \n",
      "('Gillian Miniter', 316), \n",
      "('Mark Gilbertson', 316), \n",
      "('Alexandra Lebenthal', 223), \n",
      "('Somers Farkas', 215), \n",
      "('Andrew Saffir', 207), \n",
      "('Geoffrey Bradfield', 205), \n",
      "('Debbie Bancroft', 196), \n",
      "('Jamee Gregory', 172), \n",
      "('Alina Cho', 169), \n",
      "('Yaz Hernandez', 167), \n",
      "('Eleanora Kennedy', 165), \n",
      "('Kamie Lightburn', 164), \n",
      "('Sharon Bush', 159), \n",
      "('Mario Buatta', 142), \n",
      "('Bettina Zilkha', 140), \n",
      "('Barbara Tober', 139), \n",
      "('Bonnie Comley', 132), \n",
      "('Daniel Benedict', 131), \n",
      "('Lydia Fenet', 131), \n",
      "('Lucia Hwong Gordon', 131), \n",
      "('Allison Aston', 129), \n",
      "('Muffie Potter Aston', 128), \n",
      "('Sylvester Miniter', 121), \n",
      "('Stewart Lane', 117), \n",
      "('Grace Meigher', 117), \n",
      "('Dennis Basso', 117), \n",
      "('Jennifer Creel', 113), \n",
      "('Michael Bloomberg', 112), \n",
      "('Deborah Norville', 106), \n",
      "('Liz Peek', 106), \n",
      "('Nicole Miller', 104), \n",
      "('Martha Stewart', 104), \n",
      "('Felicia Taylor', 103), \n",
      "('Kipton Cronkite', 103), \n",
      "('Fe Fendi', 103), \n",
      "('Patrick McMullan', 103), \n",
      "('Amy Fine Collins', 102), \n",
      "('Roric Tobin', 99), \n",
      "('Barbara Regna', 99), \n",
      "('Martha Glass', 98), \n",
      "('Liliana Cavendish', 98), \n",
      "('Russell Simmons', 95), \n",
      "('Elizabeth Stribling', 94), \n",
      "('Cynthia Lufkin', 94), \n",
      "('Janna Bullock', 94), \n",
      "('Donna Karan', 94), \n",
      "('Audrey Gruss', 92), \n",
      "('Fernanda Kellogg', 91), \n",
      "('Margo Langenberg', 91), \n",
      "('Frederick Anderson', 91), \n",
      "('Coco Kopelman', 90), \n",
      "('Alec Baldwin', 89), \n",
      "('Amy Hoadley', 89), \n",
      "('Margaret Russell', 87), \n",
      "('Leonard Lauder', 87), \n",
      "('Rosanna Scotto', 87), \n",
      "('Wilbur Ross', 86), \n",
      "('Adelina Wong Ettelson', 86), \n",
      "('Hilary Geary Ross', 86), \n",
      "('Couri Hay', 86), \n",
      "('Alexandra Lind Rose', 84), \n",
      "('Diana Taylor', 84), \n",
      "('Fern Mallis', 84), \n",
      "('Michele Herbert', 84), \n",
      "('Lizzie Tisch', 84), \n",
      "('Gregory Long', 83), \n",
      "('Jonathan Farkas', 83), \n",
      "('Susan Shin', 83), \n",
      "('Wendy Carduner', 82), \n",
      "('Tory Burch', 81), \n",
      "('John Demsey', 80), \n",
      "('Alexia Hamm Ryan', 80), \n",
      "('Julia Koch', 79), \n",
      "('Peter Gregory', 79), \n",
      "('Chris Meigher', 78), \n",
      "('Douglas Hannant', 78), \n",
      "('Hunt Slonem', 78), \n",
      "('Campion Platt', 77), \n",
      "('Karen Klopp', 77), \n",
      "('Lisa Anastos', 77), \n",
      "('Patricia Shiah', 77), \n",
      "('Jonathan Tisch', 77), \n",
      "('Chuck Scarborough', 76), \n",
      "('Dawne Marie Grannum', 76), \n",
      "('Michele Gerber Klein', 76), \n",
      "('Anne Hearst McInerney', 76), \n",
      "('Jill Zarin', 76), \n",
      "('Richard Mishaan', 75), \n",
      "('Pamela Fiori', 74), \n",
      "('Beth Rudin', 74), \n",
      "('Margo Catsimatidis', 74), \n",
      "('Prince Dimitri', 73), \n",
      "('Clare McKeon', 73), \n",
      "('Tinsley Mortimer', 73), \n",
      "('John Catsimatidis', 73), \n",
      "('Dayssi Olarte de Kanavos', 73), \n",
      "('Anka Palitz', 73), \n",
      "('Melissa Berkelhammer', 72), \n",
      "('Mary Davidson', 71), \n"
     ]
    }
   ],
   "source": [
    "# Top 100 degrees NOT RIGHT, return [('Alec Baldwin', 82)] * 100\n",
    "m1=148.91\n",
    "m2=109.96\n",
    "sd1=71.449084\n",
    "sd2=52.477782\n",
    "i_deg = 0\n",
    "for name, deg in top_degrees:\n",
    "    if i_deg < 100:\n",
    "        deg = int(round(m2+(deg-m1)*(sd2/sd1)))\n",
    "        print(\"('{name}', {deg}), \".format(name = name, deg = deg))\n",
    "        i_deg += 1\n",
    "    else:\n",
    "        break"
   ]
  },
  {
   "cell_type": "code",
   "execution_count": 867,
   "metadata": {
    "collapsed": false
   },
   "outputs": [],
   "source": [
    "# Convert to standard graph\n",
    "H = nx.Graph()\n",
    "for u,v,d in G.edges(data=True):\n",
    "    w = d['weight']\n",
    "    if H.has_edge(u,v):\n",
    "        H[u][v]['weight'] += w\n",
    "    else:\n",
    "        H.add_edge(u,v,weight=w)\n",
    "ranks = nx.pagerank(H)"
   ]
  },
  {
   "cell_type": "code",
   "execution_count": 868,
   "metadata": {
    "collapsed": false
   },
   "outputs": [],
   "source": [
    "top_ranks = sorted( ((v,k) for k,v in ranks.iteritems()), reverse=True)"
   ]
  },
  {
   "cell_type": "code",
   "execution_count": 871,
   "metadata": {
    "collapsed": false
   },
   "outputs": [
    {
     "data": {
      "text/plain": [
       "(0.000540017819528407, u'Mark Gilbertson')"
      ]
     },
     "execution_count": 871,
     "metadata": {},
     "output_type": "execute_result"
    }
   ],
   "source": [
    "\n",
    "top_ranks[1]"
   ]
  },
  {
   "cell_type": "code",
   "execution_count": 873,
   "metadata": {
    "collapsed": false
   },
   "outputs": [
    {
     "name": "stdout",
     "output_type": "stream",
     "text": [
      "('Jean Shafiroff', 0.000616106661333), \n",
      "('Mark Gilbertson', 0.000540017819528), \n",
      "('Gillian Miniter', 0.000437458647635), \n",
      "('Andrew Saffir', 0.000399161043153), \n",
      "('Alexandra Lebenthal', 0.000358482987014), \n",
      "('Geoffrey Bradfield', 0.000351606036128), \n",
      "('Somers Farkas', 0.000331850960353), \n",
      "('Debbie Bancroft', 0.000321741575695), \n",
      "('Mario Buatta', 0.000294121406328), \n",
      "('Alina Cho', 0.000293448079766), \n",
      "('Sharon Bush', 0.00029040912915), \n",
      "('Kamie Lightburn', 0.000286624903496), \n",
      "('Yaz Hernandez', 0.00027115320995), \n",
      "('Barbara Tober', 0.000270391837466), \n",
      "('Eleanora Kennedy', 0.0002488096465), \n",
      "('Jamee Gregory', 0.00024719313201), \n",
      "('Lucia Hwong Gordon', 0.000246758225436), \n",
      "('Lydia Fenet', 0.000238185465322), \n",
      "('Michael Bloomberg', 0.000232759256856), \n",
      "('Bettina Zilkha', 0.00022697415421), \n",
      "('Patrick McMullan', 0.000224957322527), \n",
      "('Daniel Benedict', 0.000219462265466), \n",
      "('Bonnie Comley', 0.000213809412226), \n",
      "('Kipton Cronkite', 0.00021348884543), \n",
      "('Allison Aston', 0.000209217852639), \n",
      "('Martha Stewart', 0.000204054306249), \n",
      "('Donna Karan', 0.000202786235188), \n",
      "('Amy Fine Collins', 0.000199648856929), \n",
      "('Dennis Basso', 0.000197319182444), \n",
      "('Alec Baldwin', 0.000195378973467), \n",
      "('Russell Simmons', 0.000195007238923), \n",
      "('Jennifer Creel', 0.000193308863708), \n",
      "('Muffie Potter Aston', 0.000190590760199), \n",
      "('Deborah Norville', 0.000189773427258), \n",
      "('Grace Meigher', 0.000186715516243), \n",
      "('Stewart Lane', 0.000186462702999), \n",
      "('Elizabeth Stribling', 0.000183708755133), \n",
      "('Steering Committee', 0.00018233296974), \n",
      "('Nicole Miller', 0.000182240068327), \n",
      "('Dawne Marie Grannum', 0.000180699269663), \n",
      "('Steven Stolman', 0.000179527131556), \n",
      "('Fernanda Kellogg', 0.000176878908405), \n",
      "('Janna Bullock', 0.000176243601042), \n",
      "('Leonard Lauder', 0.000174836520803), \n",
      "('Fern Mallis', 0.000173240824561), \n",
      "('Margo Langenberg', 0.000171794016565), \n",
      "('Michele Gerber Klein', 0.000171267009761), \n",
      "('Lisa Anastos', 0.000169728173013), \n",
      "('Felicia Taylor', 0.000169336799337), \n",
      "('Susan Shin', 0.000169151294539), \n",
      "('Liz Peek', 0.000167810515874), \n",
      "('Barbara Regna', 0.000164376231454), \n",
      "('Kristian Laliberte', 0.000164362431831), \n",
      "('Liliana Cavendish', 0.000164010446191), \n",
      "('Rosanna Scotto', 0.000162937292905), \n",
      "('Roric Tobin', 0.000162063979192), \n",
      "('Michele Herbert', 0.000161649896292), \n",
      "('Georgina Schaeffer', 0.000161242377705), \n",
      "('Jill Zarin', 0.000159955259272), \n",
      "('Audrey Gruss', 0.000159654641739), \n",
      "('Diana Taylor', 0.000157815050803), \n",
      "('Martha Glass', 0.000157781475569), \n",
      "('Couri Hay', 0.000156983963307), \n",
      "('Fe Fendi', 0.00015667764348), \n",
      "('Cynthia Lufkin', 0.000154679892342), \n",
      "('Pamela Fiori', 0.000153888869641), \n",
      "('Coco Kopelman', 0.000152983405037), \n",
      "('Sylvester Miniter', 0.000151800777777), \n",
      "('Karen Klopp', 0.000151684393102), \n",
      "('Tinsley Mortimer', 0.000151207253114), \n",
      "('Adelina Wong Ettelson', 0.00014862813259), \n",
      "('Executive Director', 0.000148506204846), \n",
      "('Melissa Berkelhammer', 0.000148364026402), \n",
      "('Anka Palitz', 0.000148266314892), \n",
      "('Kelly Rutherford', 0.000146836391768), \n",
      "('Agnes Gund', 0.000146808610176), \n",
      "('Richard Johnson', 0.000146438783759), \n",
      "('Amy Hoadley', 0.000146165235719), \n",
      "('Beth Rudin', 0.000145875374256), \n",
      "('Lizzie Tisch', 0.000145561971404), \n",
      "('Margaret Russell', 0.000144819722544), \n",
      "('Chuck Scarborough', 0.000143555023207), \n",
      "('Gregory Long', 0.000142135722651), \n",
      "('Annette Rickel', 0.000142101771774), \n",
      "('Bette Midler', 0.000141718421961), \n",
      "('Edward Callaghan', 0.00014120129931), \n",
      "('Herbert Pardes', 0.000141187303547), \n",
      "('John Demsey', 0.000140921989318), \n",
      "('Paula Zahn', 0.000140654521388), \n",
      "('Wendy Carduner', 0.000139959466645), \n",
      "('Peter Lyden', 0.000139745472202), \n",
      "('Daniel Boulud', 0.00013949683911), \n",
      "('David Dinkins', 0.000138854213001), \n",
      "('New York', 0.000138086489099), \n",
      "('Cassandra Seidenfeld', 0.000137220235376), \n",
      "('Fabiola Beracasa', 0.00013678691017), \n",
      "('Alexandra Lind Rose', 0.000136742745722), \n",
      "('Julia Koch', 0.000135110699617), \n",
      "('Dayssi Olarte de Kanavos', 0.000135081507614), \n",
      "('Tory Burch', 0.000134869943467), \n"
     ]
    }
   ],
   "source": [
    "# Top 100 ranks, return [('Martha Stewart', 0.00019312108706213307)]\n",
    "i_rank = 0\n",
    "for rank, name in top_ranks:\n",
    "    if i_rank < 100:\n",
    "        print(\"('{name}', {rank}), \".format(name = name, rank = rank))\n",
    "        i_rank += 1\n",
    "    else:\n",
    "        break"
   ]
  },
  {
   "cell_type": "code",
   "execution_count": 859,
   "metadata": {
    "collapsed": false
   },
   "outputs": [],
   "source": [
    "top_edges = sorted(G.edges(data = True), key = lambda (a, b, dct): dct['weight'], reverse=True)\n",
    "edges100 = [name1_name2_weight[2]['weight'] for edge_pos, name1_name2_weight  in enumerate(top_edges) if edge_pos < 100 ]"
   ]
  },
  {
   "cell_type": "code",
   "execution_count": 858,
   "metadata": {
    "collapsed": false
   },
   "outputs": [
    {
     "data": {
      "text/plain": [
       "{'weight': 106}"
      ]
     },
     "execution_count": 858,
     "metadata": {},
     "output_type": "execute_result"
    }
   ],
   "source": [
    "edges100[0]"
   ]
  },
  {
   "cell_type": "code",
   "execution_count": 860,
   "metadata": {
    "collapsed": false
   },
   "outputs": [
    {
     "data": {
      "text/html": [
       "<div>\n",
       "<table border=\"1\" class=\"dataframe\">\n",
       "  <thead>\n",
       "    <tr style=\"text-align: right;\">\n",
       "      <th></th>\n",
       "      <th>0</th>\n",
       "    </tr>\n",
       "  </thead>\n",
       "  <tbody>\n",
       "    <tr>\n",
       "      <th>count</th>\n",
       "      <td>100.000000</td>\n",
       "    </tr>\n",
       "    <tr>\n",
       "      <th>mean</th>\n",
       "      <td>23.680000</td>\n",
       "    </tr>\n",
       "    <tr>\n",
       "      <th>std</th>\n",
       "      <td>15.066774</td>\n",
       "    </tr>\n",
       "    <tr>\n",
       "      <th>min</th>\n",
       "      <td>13.000000</td>\n",
       "    </tr>\n",
       "    <tr>\n",
       "      <th>25%</th>\n",
       "      <td>14.750000</td>\n",
       "    </tr>\n",
       "    <tr>\n",
       "      <th>50%</th>\n",
       "      <td>18.000000</td>\n",
       "    </tr>\n",
       "    <tr>\n",
       "      <th>75%</th>\n",
       "      <td>25.000000</td>\n",
       "    </tr>\n",
       "    <tr>\n",
       "      <th>max</th>\n",
       "      <td>106.000000</td>\n",
       "    </tr>\n",
       "  </tbody>\n",
       "</table>\n",
       "</div>"
      ],
      "text/plain": [
       "                0\n",
       "count  100.000000\n",
       "mean    23.680000\n",
       "std     15.066774\n",
       "min     13.000000\n",
       "25%     14.750000\n",
       "50%     18.000000\n",
       "75%     25.000000\n",
       "max    106.000000"
      ]
     },
     "execution_count": 860,
     "metadata": {},
     "output_type": "execute_result"
    }
   ],
   "source": [
    "pd.DataFrame(edges100).describe()"
   ]
  },
  {
   "cell_type": "code",
   "execution_count": 875,
   "metadata": {
    "collapsed": false,
    "scrolled": true
   },
   "outputs": [
    {
     "name": "stdout",
     "output_type": "stream",
     "text": [
      "(('Gillian Miniter', 'Sylvester Miniter'), 106), \n",
      "(('Jamee Gregory', 'Peter Gregory'), 73), \n",
      "(('Bonnie Comley', 'Stewart Lane'), 68), \n",
      "(('Andrew Saffir', 'Daniel Benedict'), 64), \n",
      "(('Roric Tobin', 'Geoffrey Bradfield'), 54), \n",
      "(('Martin Shafiroff', 'Jean Shafiroff'), 49), \n",
      "(('Jay Diamond', 'Alexandra Lebenthal'), 49), \n",
      "(('Somers Farkas', 'Jonathan Farkas'), 49), \n",
      "(('Donald Tober', 'Barbara Tober'), 47), \n",
      "(('Campion Platt', 'Tatiana Platt'), 46), \n",
      "(('Chappy Morris', 'Melissa Morris'), 40), \n",
      "(('Chris Meigher', 'Grace Meigher'), 38), \n",
      "(('Michael Kennedy', 'Eleanora Kennedy'), 38), \n",
      "(('Lizzie Tisch', 'Jonathan Tisch'), 36), \n",
      "(('Yaz Hernandez', 'Valentin Hernandez'), 35), \n",
      "(('Peter Regna', 'Barbara Regna'), 35), \n",
      "(('Deborah Norville', 'Karl Wellner'), 34), \n",
      "(('John Catsimatidis', 'Margo Catsimatidis'), 33), \n",
      "(('Wilbur Ross', 'Hilary Geary Ross'), 31), \n",
      "(('Arie Kopelman', 'Coco Kopelman'), 31), \n",
      "(('Elizabeth Stribling', 'Guy Robinson'), 31), \n",
      "(('Douglas Hannant', 'Frederick Anderson'), 30), \n",
      "(('Julia Koch', 'David Koch'), 29), \n",
      "(('Janna Bullock', 'Couri Hay'), 27), \n",
      "(('Fernanda Kellogg', 'Kirk Henckels'), 25), \n",
      "(('Dan Lufkin', 'Cynthia Lufkin'), 25), \n",
      "(('Leonel Piraino', 'Nina Griscom'), 25), \n",
      "(('Dennis Basso', 'Michael Cominotto'), 24), \n",
      "(('Donald Trump', 'Melania Trump'), 24), \n",
      "(('Olivia Palermo', 'Johannes Huebl'), 24), \n",
      "(('Anne Hearst McInerney', 'Jay McInerney'), 23), \n",
      "(('Arlene Dahl', 'Marc Rosen'), 23), \n",
      "(('Clo Cohen', 'Charles Cohen'), 22), \n",
      "(('Tommy Hilfiger', 'Dee Ocleppo'), 22), \n",
      "(('Chuck Scarborough', 'Ellen Scarborough'), 21), \n",
      "(('James Mischka', 'Mark Badgley'), 21), \n",
      "(('Lauren Bush', 'David Lauren'), 20), \n",
      "(('Stephanie Krieger', 'Brian Stewart'), 20), \n",
      "(('Al Roker', 'Deborah Roberts'), 20), \n",
      "(('Marvin Davidson', 'Mary Davidson'), 20), \n",
      "(('Richard Steinberg', 'Renee Steinberg'), 20), \n",
      "(('Othon Prounis', 'Kathy Prounis'), 20), \n",
      "(('Laura Slatkin', 'Harry Slatkin'), 20), \n",
      "(('Wilbur Ross', 'Hilary Ross'), 19), \n",
      "(('Sharon Bush', 'Jean Shafiroff'), 19), \n",
      "(('Richard Soloway', 'Donna Soloway'), 19), \n",
      "(('Gillian Miniter', 'Serena Miniter'), 19), \n",
      "(('Anna Safir', 'Eleanora Kennedy'), 19), \n",
      "(('Liz Peek', 'Jeff Peek'), 19), \n",
      "(('Susan Burke', 'Coleman Burke'), 18), \n",
      "(('Thorne Perkin', 'Tatiana Perkin'), 18), \n",
      "(('Diana Taylor', 'Michael Bloomberg'), 18), \n",
      "(('Melanie Wambold', 'John Wambold'), 18), \n",
      "(('Judy Gilbert', 'Rod Gilbert'), 17), \n",
      "(('Bobby Zarin', 'Jill Zarin'), 17), \n",
      "(('Geoffrey Thomas', 'Sharon Sondes'), 17), \n",
      "(('Sherrell Aston', 'Muffie Potter Aston'), 17), \n",
      "(('Isabel Toledo', 'Ruben Toledo'), 17), \n",
      "(('Hunt Slonem', 'Liliana Cavendish'), 17), \n",
      "(('Rick Hilton', 'Kathy Hilton'), 17), \n",
      "(('Nicole Miller', 'Kim Taipale'), 16), \n",
      "(('Alina Cho', 'John Demsey'), 16), \n",
      "(('Keytt Lundqvist', 'Alex Lundqvist'), 16), \n",
      "(('Whitney Fairchild', 'James Fairchild'), 16), \n",
      "(('Somers Farkas', 'Muffie Potter Aston'), 16), \n",
      "(('Mary Snow', 'Ian Snow'), 16), \n",
      "(('Ramona Singer', 'Mario Singer'), 15), \n",
      "(('Veronica Kelly', 'Ray Kelly'), 15), \n",
      "(('Gillian Hearst Simonds', 'Christian Simonds'), 15), \n",
      "(('Samantha Yanks', 'David Yanks'), 15), \n",
      "(('Rob Thomas', 'Marisol Thomas'), 15), \n",
      "(('Elaine Langone', 'Ken Langone'), 15), \n",
      "(('Naeem Khan', 'Ranjana Khan'), 15), \n",
      "(('Daniel Benedict', 'Johannes Huebl'), 15), \n",
      "(('Robert Bradford', 'Barbara Taylor Bradford'), 15), \n",
      "(('Harry Kargman', 'Jill Kargman'), 14), \n",
      "(('Marcia Mishaan', 'Richard Mishaan'), 14), \n",
      "(('Tony Ingrao', 'Randy Kemper'), 14), \n",
      "(('Gillian Miniter', 'Alexandra Lebenthal'), 14), \n",
      "(('Roxanne Palin', 'Dean Palin'), 14), \n",
      "(('Charlotte Ronson', 'Ali Wise'), 14), \n",
      "(('Ann Rapp', 'Roy Kean'), 14), \n",
      "(('John K. Castle', 'John J. Connolly'), 14), \n",
      "(('Howard Sobel', 'Gayle Sobel'), 14), \n",
      "(('Lee Black', 'Cece Black'), 14), \n",
      "(('Philip Gorrivan', 'Lisa Gorrivan'), 14), \n",
      "(('Simon van Kempen', 'Alex McCord'), 14), \n",
      "(('Michael Warren', 'Marcy Warren'), 14), \n",
      "(('Michele Herbert', 'Larry Herbert'), 14), \n",
      "(('Jean Shafiroff', 'Patricia Shiah'), 14), \n",
      "(('Will Cotton', 'Rose Dergan'), 13), \n",
      "(('Edwina Sandys', 'Richard Kaplan'), 13), \n",
      "(('Ken Starr', 'Diane Passage'), 13), \n",
      "(('Heather Matarazzo', 'Caroline Murphy'), 13), \n",
      "(('Arnie Rosenshein', 'Paola Rosenshein'), 13), \n",
      "(('Heather Leeds', 'Tom Leeds'), 13), \n",
      "(('Susan Magazine', 'Nicholas Scoppetta'), 13), \n",
      "(('Lorenzo Martone', 'Marc Jacobs'), 13), \n",
      "(('Richard Farley', 'Chele Chiavacci'), 13), \n",
      "(('Dotty Goldfrank', 'Lionel Goldfrank'), 13), \n"
     ]
    }
   ],
   "source": [
    "# Top 100 edges\n",
    "# return [(('Michael Kennedy', 'Eleanora Kennedy'), 41)] * 100\n",
    "i_edge = 0\n",
    "for a, b, dct in top_edges:\n",
    "    if i_edge < 100:\n",
    "        print(\"(('{a}', '{b}'), {w}), \".format(a = a, b = b, w = dct['weight']))\n",
    "        i_edge += 1\n",
    "    else:\n",
    "        break"
   ]
  },
  {
   "cell_type": "markdown",
   "metadata": {},
   "source": [
    "# Extra (can be deleted later)"
   ]
  },
  {
   "cell_type": "code",
   "execution_count": 415,
   "metadata": {
    "collapsed": false
   },
   "outputs": [
    {
     "name": "stdout",
     "output_type": "stream",
     "text": [
      "['HRH Prince Abdulaziz bin Talal bin Abdulaziz Al-Saud', 'HH Princess Sora bint Saud']\n"
     ]
    }
   ],
   "source": [
    "def valid_name(words):\n",
    "    return all(w.istitle() or w.isupper() or w in ['bin', 'bint', 'van'] for w in words.split())\n",
    "tt = 'HRH Prince Abdulaziz bin Talal bin Abdulaziz Al-Saud and HH Princess Sora bint Saud'\n",
    "re_pair = re.split(' and ', tt)\n",
    "peeps=[]\n",
    "if len(re_pair)==2 and ',' not in re_pair[0]:\n",
    "    if valid_name(re_pair[0]) and valid_name(re_pair[1]):\n",
    "        peeps += [re_pair[0]]\n",
    "        peeps += [re_pair[1]]\n",
    "print peeps"
   ]
  },
  {
   "cell_type": "code",
   "execution_count": null,
   "metadata": {
    "collapsed": true
   },
   "outputs": [],
   "source": [
    "from colorama import Fore\n",
    "import re"
   ]
  },
  {
   "cell_type": "code",
   "execution_count": 430,
   "metadata": {
    "collapsed": false
   },
   "outputs": [
    {
     "name": "stdout",
     "output_type": "stream",
     "text": [
      "People found: ['abd', 'asdf']\n"
     ]
    }
   ],
   "source": [
    "a=['abd', 'asdf']\n",
    "print \"People found: %s\" % a"
   ]
  },
  {
   "cell_type": "code",
   "execution_count": 259,
   "metadata": {
    "collapsed": true
   },
   "outputs": [
    {
     "name": "stdout",
     "output_type": "stream",
     "text": [
      "4 527 Robert Matheson squires his grandmother, Ruth Buchanan, and her favorite dachshund, Cinderella, across the porch to receive guests for an event for friends and family to learn more about the work of leading national nonprofit Compassion & Choices. 247\n",
      "22 604 Mother and daughter co-hosts (R-L) Ruth Buchanan and Bonnie Matheson. Ruth told her guests: \"I watched both of my late husbands have terribly painful and drawn-out deaths because they didn't plan ahead [by naming resolute healthcare proxies and completing comprehensive advance directives]. They hadn't spoken to their families about their own deeply held end-of-life values and shared what truly living meant to them. I hope each of you — including my own children and grandchildren — gathered here will not make the same mistakes. Life for me is more than just existing, and I don't want to be here if I can't truly enjoy all of it — especially dancing!\" 656\n",
      "4 606 L-R Ronald Fleming, his guest Phoebe visiting for the season from England - and Leilani Brenner discuss the lively debate currently in process in the House of Lords on an \"Assisted Dying\" bill modeled after the Oregon Death With Dignity Act. Phoebe shared that Lord Carey, the recently retired Archbishop of Canterbury, and Archbishop Emeritus Desmond Tutu both support the assisted-dying legislation. The iconic roof of the Chinese Tea House folly at neighboring Marble House rises above the hedge in the background. 517\n",
      "8 612 Hostess Ruth Buchanan (pink suit) listens to Compassion & Choices' Chief Program Officer Mickey MacIntyre's response after sharing her story of the grueling end-of-life experiences of two of her late husbands with Brown University Art History Professor and longtime Compassion & Choices friend Anne Schultz, and Patricia Norton-Kidder of the Newport Hospital Advisory Committee; new friend, donor and Newport social-scene fixture Leith Adams. Mickey shared the range of legal options terminally ill people have to control the manner and timing of their deaths. He suggested anyone who wanted more information could call Compassion & Choices' free end-of-life consultation program at: 800-247-7421. 697\n",
      "7 615 Guests learn about Compassion & Choices End of Life Consultation work with individuals and their families to share information on how to take charge of ones dying process and effect a peaceful death on ones own terms. Guests also learn about the action plan for making aid in dying a legitimate, open and accessible end of life option for all Americans as it is currently in Oregon, Washington, Montana, Vermont and the largest county in New Mexico. 449\n",
      "5 633 Jared Hughes sets up the Sundance Award Winning film, and how it came to be made and speaks about the work of Compassion & Choices which it chronicles. 151\n"
     ]
    }
   ],
   "source": [
    "from collections import Counter\n",
    "import nltk\n",
    "\n",
    "#for icap, cap in enumerate(caps1):\n",
    "#    if 'after sharing her story of the grueling end-of-life experiences' in cap:\n",
    "#        print icap, cap\n",
    "\n",
    "tagged = nltk.pos_tag(nltk.word_tokenize(caps1[612]))\n",
    "\n",
    "for icap, cap in enumerate(caps1):\n",
    "    tagged = nltk.pos_tag(nltk.word_tokenize(cap))\n",
    "    counts = Counter(tag for word, tag in tagged)\n",
    "    VB_count = 0\n",
    "    for key, value in counts.iteritems():   # iter on both keys and values\n",
    "        if key.startswith('VB'):\n",
    "            VB_count += value\n",
    "    if VB_count > 3:\n",
    "        print VB_count, icap, cap, len(cap)\n"
   ]
  },
  {
   "cell_type": "code",
   "execution_count": 255,
   "metadata": {
    "collapsed": false
   },
   "outputs": [
    {
     "name": "stdout",
     "output_type": "stream",
     "text": [
      "Jared Hughes sets up the Sundance Award Winning film, and how it came to be made and speaks about the work of Compassion & Choices which it chronicles.\n"
     ]
    }
   ],
   "source": [
    "print caps1[633]"
   ]
  },
  {
   "cell_type": "code",
   "execution_count": 250,
   "metadata": {
    "collapsed": false
   },
   "outputs": [
    {
     "name": "stdout",
     "output_type": "stream",
     "text": [
      "Counter({'NNP': 33, 'NN': 18, 'IN': 9, 'CC': 7, 'NNS': 6, 'JJ': 5, 'DT': 4, 'VBD': 3, '.': 3, ':': 3, 'PRP$': 2, 'VBG': 2, ',': 2, \"''\": 2, 'TO': 2, 'PRP': 2, 'VB': 2, 'CD': 2, 'VBP': 1, 'WP': 1, 'POS': 1, 'RB': 1, 'MD': 1, 'JJR': 1})\n"
     ]
    }
   ],
   "source": [
    "tagged = nltk.pos_tag(nltk.word_tokenize(caps1[612]))\n",
    "counts = Counter(tag for word, tag in tagged)\n",
    "print counts"
   ]
  },
  {
   "cell_type": "code",
   "execution_count": 244,
   "metadata": {
    "collapsed": false
   },
   "outputs": [
    {
     "name": "stdout",
     "output_type": "stream",
     "text": [
      "(ORGANIZATION Hostess/NNP Ruth/NNP Buchanan/NNP)\n",
      "(u'(', 'NNP')\n",
      "(u'pink', 'NN')\n",
      "(u'suit', 'NN')\n",
      "(u')', ':')\n",
      "(u'listens', 'NNS')\n",
      "(u'to', 'TO')\n",
      "(ORGANIZATION Compassion/NNP)\n",
      "(u'&', 'CC')\n",
      "(PERSON Choices/NNP)\n",
      "(u\"'\", \"''\")\n",
      "(u'Chief', 'NNP')\n",
      "(u'Program', 'NNP')\n",
      "(u'Officer', 'NNP')\n",
      "(PERSON Mickey/NNP MacIntyre/NNP)\n",
      "(u\"'s\", 'POS')\n",
      "(u'response', 'NN')\n",
      "(u'after', 'IN')\n",
      "(u'sharing', 'VBG')\n",
      "(u'her', 'PRP')\n",
      "(u'story', 'NN')\n",
      "(u'of', 'IN')\n",
      "(u'the', 'DT')\n",
      "(u'grueling', 'NN')\n",
      "(u'end-of-life', 'NN')\n",
      "(u'experiences', 'NNS')\n",
      "(u'of', 'IN')\n",
      "(u'two', 'CD')\n",
      "(u'of', 'IN')\n",
      "(u'her', 'PRP$')\n",
      "(u'late', 'JJ')\n",
      "(u'husbands', 'NNS')\n",
      "(u'with', 'IN')\n",
      "(PERSON Brown/NNP University/NNP Art/NNP History/NNP Professor/NNP)\n",
      "(u'and', 'CC')\n",
      "(u'longtime', 'VB')\n",
      "(ORGANIZATION Compassion/NNP)\n",
      "(u'&', 'CC')\n",
      "(GPE Choices/NNP)\n",
      "(u'friend', 'NN')\n",
      "(PERSON Anne/NNP Schultz/NNP)\n",
      "(u',', ',')\n",
      "(u'and', 'CC')\n",
      "(PERSON Patricia/NNP)\n",
      "(u'Norton-Kidder', 'NNP')\n",
      "(u'of', 'IN')\n",
      "(u'the', 'DT')\n",
      "(ORGANIZATION Newport/NNP Hospital/NNP Advisory/NNP Committee/NNP)\n",
      "(u';', ':')\n",
      "(u'new', 'JJ')\n",
      "(u'friend', 'NN')\n",
      "(u',', ',')\n",
      "(u'donor', 'NN')\n",
      "(u'and', 'CC')\n",
      "(ORGANIZATION Newport/NNP)\n",
      "(u'social-scene', 'NNP')\n",
      "(u'fixture', 'NN')\n",
      "(PERSON Leith/NNP Adams/NNP)\n",
      "(u'.', '.')\n",
      "(PERSON Mickey/NNP)\n",
      "(u'shared', 'VBD')\n",
      "(u'the', 'DT')\n",
      "(u'range', 'NN')\n",
      "(u'of', 'IN')\n",
      "(u'legal', 'JJ')\n",
      "(u'options', 'NNS')\n",
      "(u'terminally', 'RB')\n",
      "(u'ill', 'JJ')\n",
      "(u'people', 'NNS')\n",
      "(u'have', 'VBP')\n",
      "(u'to', 'TO')\n",
      "(u'control', 'NN')\n",
      "(u'the', 'DT')\n",
      "(u'manner', 'NN')\n",
      "(u'and', 'CC')\n",
      "(u'timing', 'VBG')\n",
      "(u'of', 'IN')\n",
      "(u'their', 'PRP$')\n",
      "(u'deaths', 'NNS')\n",
      "(u'.', '.')\n",
      "(u'He', 'PRP')\n",
      "(u'suggested', 'VBD')\n",
      "(u'anyone', 'NN')\n",
      "(u'who', 'WP')\n",
      "(u'wanted', 'VBD')\n",
      "(u'more', 'JJR')\n",
      "(u'information', 'NN')\n",
      "(u'could', 'MD')\n",
      "(u'call', 'VB')\n",
      "(ORGANIZATION Compassion/NNP)\n",
      "(u'&', 'CC')\n",
      "(PERSON Choices/NNP)\n",
      "(u\"'\", \"''\")\n",
      "(u'free', 'JJ')\n",
      "(u'end-of-life', 'NN')\n",
      "(u'consultation', 'NN')\n",
      "(u'program', 'NN')\n",
      "(u'at', 'IN')\n",
      "(u':', ':')\n",
      "(u'800-247-7421', 'CD')\n",
      "(u'.', '.')\n"
     ]
    }
   ],
   "source": [
    "for sent in nltk.sent_tokenize(caps1[612]):\n",
    "    for chunk in nltk.ne_chunk(nltk.pos_tag(nltk.word_tokenize(sent))): \n",
    "        if not hasattr(chunk, 'node'):\n",
    "            print chunk"
   ]
  },
  {
   "cell_type": "code",
   "execution_count": 260,
   "metadata": {
    "collapsed": false
   },
   "outputs": [
    {
     "name": "stdout",
     "output_type": "stream",
     "text": [
      "This is a \u001b[31msentence\u001b[39m where I talk about interesting stuff like \u001b[31msencha\u001b[39m tea.\n"
     ]
    }
   ],
   "source": [
    "from colorama import Fore\n",
    "import re\n",
    "\n",
    "s = \"This is a sentence where I talk about interesting stuff like sencha tea.\"\n",
    "print re.sub(r'(sen\\w+)', Fore.RED + r'\\1' + Fore.RESET, s)"
   ]
  },
  {
   "cell_type": "code",
   "execution_count": null,
   "metadata": {
    "collapsed": true
   },
   "outputs": [],
   "source": []
  }
 ],
 "metadata": {
  "kernelspec": {
   "display_name": "Python 2",
   "language": "python",
   "name": "python2"
  },
  "language_info": {
   "codemirror_mode": {
    "name": "ipython",
    "version": 2
   },
   "file_extension": ".py",
   "mimetype": "text/x-python",
   "name": "python",
   "nbconvert_exporter": "python",
   "pygments_lexer": "ipython2",
   "version": "2.7.10"
  }
 },
 "nbformat": 4,
 "nbformat_minor": 0
}
